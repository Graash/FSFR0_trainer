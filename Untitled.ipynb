{
 "cells": [
  {
   "cell_type": "code",
   "execution_count": 1,
   "metadata": {},
   "outputs": [],
   "source": [
    "import PyPDF2"
   ]
  },
  {
   "cell_type": "code",
   "execution_count": 4,
   "metadata": {},
   "outputs": [],
   "source": [
    "file = open('QA_fcsm_base_2017.pdf', 'rb')\n",
    "fileReader = PyPDF2.PdfFileReader(file)"
   ]
  },
  {
   "cell_type": "code",
   "execution_count": 5,
   "metadata": {},
   "outputs": [
    {
     "name": "stdout",
     "output_type": "stream",
     "text": [
      "466\n"
     ]
    }
   ],
   "source": [
    "print(fileReader.numPages)"
   ]
  },
  {
   "cell_type": "code",
   "execution_count": 7,
   "metadata": {},
   "outputs": [
    {
     "name": "stdout",
     "output_type": "stream",
     "text": [
      "     \n",
      " ( 1  2017)\n",
      " www.forexam.ru \n",
      "   \n",
      " , \n",
      " , \n",
      "-\n",
      " \n",
      " 2 / 466 \n",
      " \n",
      ": 1.1.3 \n",
      "  \n",
      "  \n",
      " \n",
      ", \n",
      ": : A. \n",
      "  \n",
      " \n",
      " B. \n",
      "    \n",
      " \n",
      " \n",
      " C. \n",
      " \n",
      "  \n",
      " D. \n",
      " \n",
      " \n",
      " \n",
      " \n",
      "  \n",
      "  \n",
      " (\n",
      ", )  \n",
      " \n",
      ": 1.1.4 \n",
      "\n",
      " \n",
      " \n",
      " \n",
      "  \n",
      ": I. \n",
      " \n",
      "; II. \n",
      " \n",
      "; III.   \n",
      " \n",
      " \n",
      "; IV. \n",
      "  \n",
      " \n",
      ". : A.  I \n",
      " II B. \n",
      "\n",
      " III C. \n",
      " II  III D.  \n",
      "  \n",
      " \n",
      ": 1.1.5 \n",
      " \n",
      " \n",
      " \n",
      ": I. ; II.  \n",
      "; III. \n",
      " \n",
      " \n",
      "; IV. \n",
      "  \n",
      " \n",
      "; V. \n",
      "   \n",
      " . : A. \n",
      " I  II B.  I, II, III\n",
      " C. ,  IV D.  \n",
      "   \n",
      ": 1.1.6 \n",
      "  \n",
      "   \n",
      " ? I.   ; II.    ; III. \n",
      " \n",
      " \n",
      " \n",
      "  \n",
      ", \n",
      " \n",
      "   , \n",
      " - . : A. \n",
      " I  II B. \n",
      "\n",
      " III C. \n",
      " II  III D.    \n"
     ]
    }
   ],
   "source": [
    "pageObj = fileReader.getPage(1)\n",
    " \n",
    "# extracting text from page\n",
    "print(pageObj.extractText())"
   ]
  },
  {
   "cell_type": "code",
   "execution_count": 6,
   "metadata": {},
   "outputs": [
    {
     "data": {
      "text/plain": [
       "<function PageObject.keys>"
      ]
     },
     "execution_count": 6,
     "metadata": {},
     "output_type": "execute_result"
    }
   ],
   "source": [
    "pageObj.keys"
   ]
  },
  {
   "cell_type": "code",
   "execution_count": null,
   "metadata": {},
   "outputs": [],
   "source": []
  }
 ],
 "metadata": {
  "kernelspec": {
   "display_name": "Python 3",
   "language": "python",
   "name": "python3"
  },
  "language_info": {
   "codemirror_mode": {
    "name": "ipython",
    "version": 3
   },
   "file_extension": ".py",
   "mimetype": "text/x-python",
   "name": "python",
   "nbconvert_exporter": "python",
   "pygments_lexer": "ipython3",
   "version": "3.8.3"
  }
 },
 "nbformat": 4,
 "nbformat_minor": 4
}
